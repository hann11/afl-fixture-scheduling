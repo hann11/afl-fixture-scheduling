{
 "cells": [
  {
   "cell_type": "code",
   "execution_count": 1,
   "metadata": {},
   "outputs": [],
   "source": [
    "import random\n",
    "import numpy as np\n",
    "import pandas as pd"
   ]
  },
  {
   "cell_type": "code",
   "execution_count": 2,
   "metadata": {},
   "outputs": [],
   "source": [
    "team_rankings = {}\n",
    "\n",
    "#based on 2021 ladder position\n",
    "team_rankings[\"Adelaide\"]=15\n",
    "team_rankings[\"Brisbane\"]=4\n",
    "team_rankings[\"Carlton\"]=13\n",
    "team_rankings[\"Collingwood\"]=17\n",
    "team_rankings[\"Essendon\"]=8\n",
    "team_rankings[\"Fremantle\"]=11\n",
    "team_rankings[\"Geelong\"]=3\n",
    "team_rankings[\"Gold Coast\"]=16\n",
    "team_rankings[\"GWS\"]=7\n",
    "team_rankings[\"Hawthorn\"]=14\n",
    "team_rankings[\"Melbourne\"]=1\n",
    "team_rankings[\"North Melbourne\"]=18\n",
    "team_rankings[\"Port Adelaide\"]=2\n",
    "team_rankings[\"Richmond\"]=12\n",
    "team_rankings[\"St Kilda\"]=10\n",
    "team_rankings[\"Sydney\"]=6\n",
    "team_rankings[\"West Coast\"]=9\n",
    "team_rankings[\"Western Bulldogs\"]=5"
   ]
  },
  {
   "cell_type": "code",
   "execution_count": 3,
   "metadata": {},
   "outputs": [],
   "source": [
    "team_grounds = {}\n",
    "\n",
    "team_grounds[\"Adelaide\"]=\"Adelaide Oval\"\n",
    "team_grounds[\"Brisbane\"]=\"Gabba\"\n",
    "team_grounds[\"Carlton\"]=\"MCG\"\n",
    "team_grounds[\"Collingwood\"]=\"MCG\"\n",
    "team_grounds[\"Essendon\"]=\"MCG\"\n",
    "team_grounds[\"Fremantle\"]=\"Optus Stadium\"\n",
    "team_grounds[\"Geelong\"]=\"GMHBA Stadium\"\n",
    "team_grounds[\"Gold Coast\"]=\"Metricon Stadium\"\n",
    "team_grounds[\"GWS\"]=\"GIANTS Stadium\"\n",
    "team_grounds[\"Hawthorn\"]=\"MCG\"\n",
    "team_grounds[\"Melbourne\"]=\"MCG\"\n",
    "team_grounds[\"North Melbourne\"]=\"Marvel Stadium\"\n",
    "team_grounds[\"Port Adelaide\"]=\"Adelaide Oval\"\n",
    "team_grounds[\"Richmond\"]=\"MCG\"\n",
    "team_grounds[\"St Kilda\"]=\"Marvel Stadium\"\n",
    "team_grounds[\"Sydney\"]=\"SCG\"\n",
    "team_grounds[\"West Coast\"]=\"Optus Stadium\"\n",
    "team_grounds[\"Western Bulldogs\"]=\"Marvel Stadium\""
   ]
  },
  {
   "cell_type": "code",
   "execution_count": 4,
   "metadata": {},
   "outputs": [],
   "source": [
    "timeslots = {}\n",
    "\n",
    "timeslots[1] = 'Thursday 7.50pm'\n",
    "timeslots[2] = 'Friday 7.50pm'\n",
    "timeslots[3] = 'Saturday 7.25pm'\n",
    "timeslots[4] = 'Saturday 7.40pm'\n",
    "timeslots[5] = 'Saturday 2.10pm'\n",
    "timeslots[6] = 'Saturday 1.45pm'\n",
    "timeslots[7] = 'Sunday 3.20pm'\n",
    "timeslots[8] = 'Sunday 1.10pm'\n",
    "timeslots[9] = 'Sunday 4.40pm'"
   ]
  },
  {
   "cell_type": "code",
   "execution_count": 5,
   "metadata": {},
   "outputs": [],
   "source": [
    "teams = [\"Adelaide\",\"Brisbane\",\"Carlton\",\"Collingwood\",\"Essendon\",\"Fremantle\",\"Geelong\",\"Gold Coast\",\"GWS\",\n",
    "        \"Hawthorn\",\"Melbourne\",\"North Melbourne\",\"Port Adelaide\",\"Richmond\",\"St Kilda\",\"Sydney\",\n",
    "         \"West Coast\",\"Western Bulldogs\"]\n",
    "\n",
    "random.shuffle(teams)"
   ]
  },
  {
   "cell_type": "code",
   "execution_count": 6,
   "metadata": {},
   "outputs": [],
   "source": [
    "def basic_rr(teams):\n",
    "    s = {}\n",
    "    s_per_team = {}\n",
    "    h_count_per_team = {}\n",
    "    ha_per_team = {}\n",
    "    \n",
    "    #if odd n_teams\n",
    "    if len(teams) % 2 == 1: \n",
    "        teams = teams + [None]\n",
    "    \n",
    "    n = len(teams)\n",
    "    \n",
    "    for team in teams:\n",
    "        s_per_team[team] = []\n",
    "        h_count_per_team[team] = 0\n",
    "        ha_per_team[team] = []\n",
    "        \n",
    "    mid = n//2\n",
    "    \n",
    "    for i in range(n-1):\n",
    "        round=[]\n",
    "        for j in range(mid):\n",
    "            t1 = teams[j]\n",
    "            t2 = teams[n-1-j]\n",
    "            \n",
    "            round.append((t1, \"vs.\", t2))\n",
    "            \n",
    "            s_per_team[t1].append(t2)\n",
    "            s_per_team[t2].append(t1)\n",
    "            h_count_per_team[t1] += 1\n",
    "            ha_per_team[t1].append(\"Home\")\n",
    "            ha_per_team[t2].append(\"Away\")\n",
    "                \n",
    "        s[\"Round \" + str(i+1)] = round\n",
    "        \n",
    "        teams.insert(1,teams.pop())\n",
    "        \n",
    "    s_per_team = dict(sorted(s_per_team.items(), key=lambda x: x[0].lower()))\n",
    "    h_count_per_team = dict(sorted(h_count_per_team.items(), key=lambda x: x[0].lower()))\n",
    "    ha_per_team = dict(sorted(ha_per_team.items(), key=lambda x: x[0].lower()))\n",
    "    \n",
    "    return s, s_per_team, h_count_per_team, ha_per_team"
   ]
  },
  {
   "cell_type": "code",
   "execution_count": 7,
   "metadata": {},
   "outputs": [],
   "source": [
    "def round_robin_fair(teams):\n",
    "    \"\"\" Create a schedule for the teams in the list and return it\"\"\"\n",
    "    s = {}\n",
    "    s_per_team = {}\n",
    "    h_count_per_team = {}\n",
    "    ha_per_team = {}\n",
    "    \n",
    "    if len(teams) % 2 == 1: teams = teams + [None]\n",
    "    # manipulate map (array of indexes for list) instead of list itself\n",
    "    # this takes advantage of even/odd indexes to determine home vs. away\n",
    "    n = len(teams)\n",
    "    \n",
    "    for team in teams:\n",
    "        s_per_team[team] = []\n",
    "        h_count_per_team[team] = 0\n",
    "        ha_per_team[team] = []\n",
    "        \n",
    "    map = list(range(n))\n",
    "    mid = n // 2\n",
    "    for i in range(n-1):\n",
    "        l1 = map[:mid]\n",
    "        l2 = map[mid:]\n",
    "        l2.reverse()\n",
    "        #print(\"Round\",i)\n",
    "        round = []\n",
    "        \n",
    "        for j in range(mid):\n",
    "            t1 = teams[l1[j]]\n",
    "            t2 = teams[l2[j]]\n",
    "            if j == 0 and i % 2 == 1:\n",
    "                # flip the first match only, every other round\n",
    "                # (this is because the first match always involves the last player in the list)\n",
    "                round.append((t2,\"vs.\",t1))\n",
    "                s_per_team[t2].append(t1)\n",
    "                s_per_team[t1].append(t2)\n",
    "                h_count_per_team[t2] += 1\n",
    "                ha_per_team[t2].append(\"Home\")\n",
    "                ha_per_team[t1].append(\"Away\")\n",
    "            else:\n",
    "                round.append((t1, \"vs.\", t2))\n",
    "                s_per_team[t2].append(t1)\n",
    "                s_per_team[t1].append(t2)\n",
    "                h_count_per_team[t1] += 1\n",
    "                ha_per_team[t1].append(\"Home\")\n",
    "                ha_per_team[t2].append(\"Away\")\n",
    "                \n",
    "        s[\"Round \" + str(i+1)] = round\n",
    "        \n",
    "        # rotate list by n/2, leaving last element at the end\n",
    "        map = map[mid:-1] + map[:mid] + map[-1:]\n",
    "        \n",
    "    s_per_team = dict(sorted(s_per_team.items(), key=lambda x: x[0].lower()))\n",
    "    h_count_per_team = dict(sorted(h_count_per_team.items(), key=lambda x: x[0].lower()))\n",
    "    ha_per_team = dict(sorted(ha_per_team.items(), key=lambda x: x[0].lower()))\n",
    "    \n",
    "    return s, s_per_team, h_count_per_team, ha_per_team"
   ]
  },
  {
   "cell_type": "code",
   "execution_count": 8,
   "metadata": {},
   "outputs": [],
   "source": [
    "def optimize_tv_ratings(schedule):\n",
    "    \n",
    "    new_schedule = {}\n",
    "    new_schedule_chron = {}\n",
    "    \n",
    "    for round in schedule:\n",
    "        temp_rating_list = []\n",
    "        for game in schedule[round]:\n",
    "            hometeam = game[0]\n",
    "            awayteam = game[2]\n",
    "            \n",
    "            htr = team_rankings[hometeam]\n",
    "            atr = team_rankings[awayteam]\n",
    "            \n",
    "            temp_rating_list.append(htr+atr)\n",
    "        \n",
    "        \n",
    "        argsort_trl = np.argsort(temp_rating_list)\n",
    "        \n",
    "        newround=[]\n",
    "        \n",
    "        for i in range(len(temp_rating_list)):\n",
    "            nextgame = argsort_trl[i]\n",
    "            \n",
    "            hometeam = schedule[round][nextgame][0]\n",
    "            awayteam = schedule[round][nextgame][2]\n",
    "            \n",
    "            ground = team_grounds[hometeam]\n",
    "            \n",
    "            timeslot = timeslots[i+1]\n",
    "            \n",
    "            newround.append((hometeam,awayteam,ground,timeslot,str(temp_rating_list[nextgame]),i+1))\n",
    "            \n",
    "        new_schedule[round]=newround\n",
    "    \n",
    "    for round in new_schedule:\n",
    "        \n",
    "        chronround = []\n",
    "        \n",
    "        chronround.append(new_schedule[round][0])\n",
    "        chronround.append(new_schedule[round][1])\n",
    "        chronround.append(new_schedule[round][5])\n",
    "        chronround.append(new_schedule[round][4])\n",
    "        chronround.append(new_schedule[round][2])\n",
    "        chronround.append(new_schedule[round][3])\n",
    "        chronround.append(new_schedule[round][7])\n",
    "        chronround.append(new_schedule[round][6])\n",
    "        chronround.append(new_schedule[round][8])\n",
    "        \n",
    "    \n",
    "        new_schedule_chron[round]=chronround\n",
    "        \n",
    "        \n",
    "    return new_schedule_chron"
   ]
  },
  {
   "cell_type": "code",
   "execution_count": 9,
   "metadata": {},
   "outputs": [],
   "source": [
    "def timeslots_non_opt(schedule):\n",
    "    new_schedule = {}\n",
    "    new_schedule_chron = {}\n",
    "    \n",
    "    for round in schedule:\n",
    "        temp_rating_list = []\n",
    "        for game in schedule[round]:\n",
    "            hometeam = game[0]\n",
    "            awayteam = game[2]\n",
    "            \n",
    "            htr = team_rankings[hometeam]\n",
    "            atr = team_rankings[awayteam]\n",
    "            \n",
    "            temp_rating_list.append(htr+atr)\n",
    "        \n",
    "        \n",
    "        newround=[]\n",
    "        \n",
    "        for i in range(len(temp_rating_list)):\n",
    "            \n",
    "            hometeam = schedule[round][i][0]\n",
    "            awayteam = schedule[round][i][2]\n",
    "            \n",
    "            ground = team_grounds[hometeam]\n",
    "            \n",
    "            timeslot = timeslots[i+1]\n",
    "            \n",
    "            newround.append((hometeam,awayteam,ground,timeslot,str(temp_rating_list[i]),i+1))\n",
    "            \n",
    "        new_schedule[round]=newround\n",
    "        \n",
    "    for round in new_schedule:\n",
    "        \n",
    "        chronround = []\n",
    "        \n",
    "        chronround.append(new_schedule[round][0])\n",
    "        chronround.append(new_schedule[round][1])\n",
    "        chronround.append(new_schedule[round][5])\n",
    "        chronround.append(new_schedule[round][4])\n",
    "        chronround.append(new_schedule[round][2])\n",
    "        chronround.append(new_schedule[round][3])\n",
    "        chronround.append(new_schedule[round][7])\n",
    "        chronround.append(new_schedule[round][6])\n",
    "        chronround.append(new_schedule[round][8])\n",
    "        \n",
    "    \n",
    "        new_schedule_chron[round]=chronround\n",
    "        \n",
    "        \n",
    "    return new_schedule_chron"
   ]
  },
  {
   "cell_type": "code",
   "execution_count": null,
   "metadata": {},
   "outputs": [],
   "source": [
    "def create_schedule_df(schedule):\n",
    "    \n",
    "    df_list = []\n",
    "    cols = ['Round','Home Team','Away Team','Venue','Time','Rank','TimeRank']\n",
    "    \n",
    "    for round in schedule:\n",
    "        df = pd.DataFrame(schedule[round],columns=['Home Team','Away Team','Venue','Time','Rank','TimeRank'])\n",
    "        df['Round'] = round\n",
    "        df = df[cols]\n",
    "        \n",
    "        df_list.append(df)\n",
    "        \n",
    "        \n",
    "    full_df = pd.concat(df_list)\n",
    "    \n",
    "    return full_df"
   ]
  },
  {
   "cell_type": "code",
   "execution_count": 45,
   "metadata": {},
   "outputs": [],
   "source": [
    "def create_partial_schedule_df(schedule):\n",
    "    \n",
    "    df_list = []\n",
    "    cols = ['Round','Home Team','Away Team','Venue','Time','Rank','TimeRank']\n",
    "    \n",
    "    for round in schedule:\n",
    "        df = pd.DataFrame(schedule[round],columns=['Home Team','Away Team','Venue','Time','Rank','TimeRank'])\n",
    "        df['Round'] = round\n",
    "        df = df[cols]\n",
    "        \n",
    "        df_list.append(df)\n",
    "        \n",
    "        \n",
    "    full_df = pd.concat(df_list[:4])\n",
    "    \n",
    "    return full_df"
   ]
  },
  {
   "cell_type": "code",
   "execution_count": null,
   "metadata": {},
   "outputs": [],
   "source": [
    "def obj_HAV(ha_perteam):\n",
    "    counter=0\n",
    "    for team in ha_perteam:\n",
    "        for i in range(1,len(ha_perteam[team])):\n",
    "            if ha_perteam[team][i] == ha_perteam[team][i-1]:\n",
    "                counter += 1\n",
    "    return counter"
   ]
  },
  {
   "cell_type": "code",
   "execution_count": 70,
   "metadata": {},
   "outputs": [],
   "source": [
    "def obj_TV(df):\n",
    "    df['TimeRankInv'] = 9/df['TimeRank']\n",
    "    \n",
    "    #note max team rank for a game is 35, so to invert Rank per game, take reciprocal of 35\n",
    "    df['TV_Rank'] = df['TimeRankInv']* (35/df['Rank'].astype(int))\n",
    "    \n",
    "    return df['TV_Rank'].sum()"
   ]
  },
  {
   "cell_type": "code",
   "execution_count": 46,
   "metadata": {},
   "outputs": [],
   "source": [
    "basic_sched, basic_per_team, basic_hcpt, basic_hapt = basic_rr(teams)"
   ]
  },
  {
   "cell_type": "code",
   "execution_count": 47,
   "metadata": {},
   "outputs": [],
   "source": [
    "fair_sched, fair_per_team, fair_hcpt, fair_hapt = round_robin_fair(teams)"
   ]
  },
  {
   "cell_type": "code",
   "execution_count": 48,
   "metadata": {},
   "outputs": [],
   "source": [
    "basic_sched_ts = timeslots_non_opt(basic_sched)"
   ]
  },
  {
   "cell_type": "code",
   "execution_count": 49,
   "metadata": {},
   "outputs": [],
   "source": [
    "ha_fair_ts = timeslots_non_opt(fair_sched)"
   ]
  },
  {
   "cell_type": "code",
   "execution_count": 50,
   "metadata": {},
   "outputs": [],
   "source": [
    "tv_opt_ts = optimize_tv_ratings(fair_sched)"
   ]
  },
  {
   "cell_type": "code",
   "execution_count": 51,
   "metadata": {},
   "outputs": [],
   "source": [
    "basic_sched_df = create_schedule_df(basic_sched_ts)"
   ]
  },
  {
   "cell_type": "code",
   "execution_count": 52,
   "metadata": {},
   "outputs": [],
   "source": [
    "basic_sched_df_partial = create_partial_schedule_df(basic_sched_ts)"
   ]
  },
  {
   "cell_type": "code",
   "execution_count": 53,
   "metadata": {},
   "outputs": [],
   "source": [
    "ha_fair_df = create_schedule_df(ha_fair_ts)"
   ]
  },
  {
   "cell_type": "code",
   "execution_count": 54,
   "metadata": {},
   "outputs": [],
   "source": [
    "ha_fair_df_partial = create_partial_schedule_df(ha_fair_ts)"
   ]
  },
  {
   "cell_type": "code",
   "execution_count": 55,
   "metadata": {},
   "outputs": [],
   "source": [
    "tv_opt_df = create_schedule_df(tv_opt_ts)"
   ]
  },
  {
   "cell_type": "code",
   "execution_count": 56,
   "metadata": {},
   "outputs": [],
   "source": [
    "tv_opt_df_partial = create_partial_schedule_df(tv_opt_ts)"
   ]
  },
  {
   "cell_type": "code",
   "execution_count": 57,
   "metadata": {},
   "outputs": [],
   "source": [
    "basic_sched_df.drop(columns=['Rank','TimeRank']).to_csv('basic.csv',index=False)"
   ]
  },
  {
   "cell_type": "code",
   "execution_count": 58,
   "metadata": {},
   "outputs": [],
   "source": [
    "basic_sched_df_partial.drop(columns=['Rank','TimeRank']).to_csv('basic_partial.csv',index=False)"
   ]
  },
  {
   "cell_type": "code",
   "execution_count": 59,
   "metadata": {},
   "outputs": [],
   "source": [
    "ha_fair_df.drop(columns=['Rank','TimeRank']).to_csv('ha_fair.csv',index=False)"
   ]
  },
  {
   "cell_type": "code",
   "execution_count": 60,
   "metadata": {},
   "outputs": [],
   "source": [
    "ha_fair_df_partial.drop(columns=['Rank','TimeRank']).to_csv('ha_fair_partial.csv',index=False)"
   ]
  },
  {
   "cell_type": "code",
   "execution_count": 61,
   "metadata": {},
   "outputs": [],
   "source": [
    "tv_opt_df.drop(columns=['Rank','TimeRank']).to_csv('tv_opt.csv',index=False)"
   ]
  },
  {
   "cell_type": "code",
   "execution_count": 62,
   "metadata": {},
   "outputs": [],
   "source": [
    "tv_opt_df_partial.drop(columns=['Rank','TimeRank']).to_csv('tv_opt_partial.csv',index=False)"
   ]
  },
  {
   "cell_type": "code",
   "execution_count": null,
   "metadata": {},
   "outputs": [],
   "source": []
  },
  {
   "cell_type": "code",
   "execution_count": 72,
   "metadata": {},
   "outputs": [
    {
     "name": "stdout",
     "output_type": "stream",
     "text": [
      "HAV 256\n",
      "TV Optimisation 883.8090688421221\n"
     ]
    }
   ],
   "source": [
    "#example of OBJECTIVE FUNCTION\n",
    "\n",
    "#BASIC ROUND ROBIN\n",
    "print(\"HAV\",obj_HAV(basic_hapt))\n",
    "\n",
    "print(\"TV Optimisation\",obj_TV(basic_sched_df))"
   ]
  },
  {
   "cell_type": "code",
   "execution_count": 73,
   "metadata": {},
   "outputs": [
    {
     "name": "stdout",
     "output_type": "stream",
     "text": [
      "HAV 16\n",
      "TV Optimisation 1078.8120632940954\n"
     ]
    }
   ],
   "source": [
    "#FAIR HA\n",
    "print(\"HAV\",obj_HAV(fair_hapt))\n",
    "\n",
    "print(\"TV Optimisation\",obj_TV(ha_fair_df))"
   ]
  },
  {
   "cell_type": "code",
   "execution_count": 74,
   "metadata": {},
   "outputs": [
    {
     "name": "stdout",
     "output_type": "stream",
     "text": [
      "HAV 16\n",
      "TV Optimisation 1419.5300692854257\n"
     ]
    }
   ],
   "source": [
    "#TV OPT\n",
    "print(\"HAV\",obj_HAV(fair_hapt))\n",
    "\n",
    "print(\"TV Optimisation\",obj_TV(tv_opt_df))"
   ]
  },
  {
   "cell_type": "code",
   "execution_count": null,
   "metadata": {},
   "outputs": [],
   "source": []
  }
 ],
 "metadata": {
  "kernelspec": {
   "display_name": "Python 3",
   "language": "python",
   "name": "python3"
  },
  "language_info": {
   "codemirror_mode": {
    "name": "ipython",
    "version": 3
   },
   "file_extension": ".py",
   "mimetype": "text/x-python",
   "name": "python",
   "nbconvert_exporter": "python",
   "pygments_lexer": "ipython3",
   "version": "3.8.3"
  }
 },
 "nbformat": 4,
 "nbformat_minor": 4
}
