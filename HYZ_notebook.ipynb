{
 "cells": [
  {
   "cell_type": "code",
   "execution_count": 72,
   "metadata": {},
   "outputs": [],
   "source": [
    "import random\n",
    "import numpy as np\n",
    "import pandas as pd"
   ]
  },
  {
   "cell_type": "code",
   "execution_count": 73,
   "metadata": {},
   "outputs": [],
   "source": [
    "team_rankings = {}\n",
    "\n",
    "#based on 2021 ladder position\n",
    "team_rankings[\"Adelaide\"]=15\n",
    "team_rankings[\"Brisbane\"]=4\n",
    "team_rankings[\"Carlton\"]=13\n",
    "team_rankings[\"Collingwood\"]=17\n",
    "team_rankings[\"Essendon\"]=8\n",
    "team_rankings[\"Fremantle\"]=11\n",
    "team_rankings[\"Geelong\"]=3\n",
    "team_rankings[\"Gold Coast\"]=16\n",
    "team_rankings[\"GWS\"]=7\n",
    "team_rankings[\"Hawthorn\"]=14\n",
    "team_rankings[\"Melbourne\"]=1\n",
    "team_rankings[\"North Melbourne\"]=18\n",
    "team_rankings[\"Port Adelaide\"]=2\n",
    "team_rankings[\"Richmond\"]=12\n",
    "team_rankings[\"St Kilda\"]=10\n",
    "team_rankings[\"Sydney\"]=6\n",
    "team_rankings[\"West Coast\"]=9\n",
    "team_rankings[\"Western Bulldogs\"]=5"
   ]
  },
  {
   "cell_type": "code",
   "execution_count": 74,
   "metadata": {},
   "outputs": [],
   "source": [
    "team_grounds = {}\n",
    "\n",
    "team_grounds[\"Adelaide\"]=\"Adelaide Oval\"\n",
    "team_grounds[\"Brisbane\"]=\"Gabba\"\n",
    "team_grounds[\"Carlton\"]=\"MCG\"\n",
    "team_grounds[\"Collingwood\"]=\"MCG\"\n",
    "team_grounds[\"Essendon\"]=\"MCG\"\n",
    "team_grounds[\"Fremantle\"]=\"Optus Stadium\"\n",
    "team_grounds[\"Geelong\"]=\"GMHBA Stadium\"\n",
    "team_grounds[\"Gold Coast\"]=\"Metricon Stadium\"\n",
    "team_grounds[\"GWS\"]=\"GIANTS Stadium\"\n",
    "team_grounds[\"Hawthorn\"]=\"MCG\"\n",
    "team_grounds[\"Melbourne\"]=\"MCG\"\n",
    "team_grounds[\"North Melbourne\"]=\"Marvel Stadium\"\n",
    "team_grounds[\"Port Adelaide\"]=\"Adelaide Oval\"\n",
    "team_grounds[\"Richmond\"]=\"MCG\"\n",
    "team_grounds[\"St Kilda\"]=\"Marvel Stadium\"\n",
    "team_grounds[\"Sydney\"]=\"SCG\"\n",
    "team_grounds[\"West Coast\"]=\"Optus Stadium\"\n",
    "team_grounds[\"Western Bulldogs\"]=\"Marvel Stadium\""
   ]
  },
  {
   "cell_type": "code",
   "execution_count": 75,
   "metadata": {},
   "outputs": [],
   "source": [
    "timeslots = {}\n",
    "\n",
    "timeslots[1] = 'Thursday 7.50pm'\n",
    "timeslots[2] = 'Friday 7.50pm'\n",
    "timeslots[3] = 'Saturday 7.25pm'\n",
    "timeslots[4] = 'Saturday 7.40pm'\n",
    "timeslots[5] = 'Saturday 2.10pm'\n",
    "timeslots[6] = 'Saturday 1.45pm'\n",
    "timeslots[7] = 'Sunday 3.20pm'\n",
    "timeslots[8] = 'Sunday 1.10pm'\n",
    "timeslots[9] = 'Sunday 4.40pm'"
   ]
  },
  {
   "cell_type": "code",
   "execution_count": 76,
   "metadata": {},
   "outputs": [],
   "source": [
    "teams = [\"Adelaide\",\"Brisbane\",\"Carlton\",\"Collingwood\",\"Essendon\",\"Fremantle\",\"Geelong\",\"Gold Coast\",\"GWS\",\n",
    "        \"Hawthorn\",\"Melbourne\",\"North Melbourne\",\"Port Adelaide\",\"Richmond\",\"St Kilda\",\"Sydney\",\n",
    "         \"West Coast\",\"Western Bulldogs\"]\n",
    "\n",
    "random.shuffle(teams)"
   ]
  },
  {
   "cell_type": "code",
   "execution_count": 77,
   "metadata": {},
   "outputs": [],
   "source": [
    "def basic_rr(teams):\n",
    "    \"\"\"\n",
    "    Basic Round-Robin, no HA Fairness\n",
    "    \n",
    "    For a given list of teams, this function outputs\n",
    "    s: round by round schedule for the season\n",
    "    s_per_team: for each team, who they play each week\n",
    "    h_count_per_team: for each team, amount of home games\n",
    "    ha_per_team: for each team, their HA recurrence e.g. 'home','away',...,'away'\n",
    "    \"\"\"\n",
    "    s = {}\n",
    "    s_per_team = {}\n",
    "    h_count_per_team = {}\n",
    "    ha_per_team = {}\n",
    "    \n",
    "    #if odd n_teams\n",
    "    if len(teams) % 2 == 1: \n",
    "        teams = teams + [None]\n",
    "    \n",
    "    n = len(teams)\n",
    "    \n",
    "    for team in teams:\n",
    "        s_per_team[team] = []\n",
    "        h_count_per_team[team] = 0\n",
    "        ha_per_team[team] = []\n",
    "        \n",
    "    mid = n//2\n",
    "    \n",
    "    for i in range(n-1):\n",
    "        round=[]\n",
    "        for j in range(mid):\n",
    "            t1 = teams[j]\n",
    "            t2 = teams[n-1-j]\n",
    "            \n",
    "            round.append((t1, \"vs.\", t2))\n",
    "            \n",
    "            s_per_team[t1].append(t2)\n",
    "            s_per_team[t2].append(t1)\n",
    "            h_count_per_team[t1] += 1\n",
    "            ha_per_team[t1].append(\"Home\")\n",
    "            ha_per_team[t2].append(\"Away\")\n",
    "                \n",
    "        s[\"Round \" + str(i+1)] = round\n",
    "        \n",
    "        teams.insert(1,teams.pop())\n",
    "        \n",
    "    s_per_team = dict(sorted(s_per_team.items(), key=lambda x: x[0].lower()))\n",
    "    h_count_per_team = dict(sorted(h_count_per_team.items(), key=lambda x: x[0].lower()))\n",
    "    ha_per_team = dict(sorted(ha_per_team.items(), key=lambda x: x[0].lower()))\n",
    "    \n",
    "    return s, s_per_team, h_count_per_team, ha_per_team"
   ]
  },
  {
   "cell_type": "code",
   "execution_count": 78,
   "metadata": {},
   "outputs": [],
   "source": [
    "def round_robin_fair(teams):\n",
    "    \"\"\"\n",
    "    Basic Round-Robin, with HA Fairness\n",
    "    \n",
    "    For a given list of teams, this function outputs\n",
    "    s: round by round schedule for the season\n",
    "    s_per_team: for each team, who they play each week\n",
    "    h_count_per_team: for each team, amount of home games\n",
    "    ha_per_team: for each team, their HA recurrence e.g. 'home','away',...,'home'\n",
    "    \"\"\"\n",
    "    s = {}\n",
    "    s_per_team = {}\n",
    "    h_count_per_team = {}\n",
    "    ha_per_team = {}\n",
    "    \n",
    "    if len(teams) % 2 == 1: teams = teams + [None]\n",
    "    n = len(teams)\n",
    "    \n",
    "    for team in teams:\n",
    "        s_per_team[team] = []\n",
    "        h_count_per_team[team] = 0\n",
    "        ha_per_team[team] = []\n",
    "        \n",
    "    map = list(range(n))\n",
    "    mid = n // 2\n",
    "    for i in range(n-1):\n",
    "        l1 = map[:mid]\n",
    "        l2 = map[mid:]\n",
    "        l2.reverse()\n",
    "        #print(\"Round\",i)\n",
    "        round = []\n",
    "        \n",
    "        for j in range(mid):\n",
    "            t1 = teams[l1[j]]\n",
    "            t2 = teams[l2[j]]\n",
    "            if j == 0 and i % 2 == 1:\n",
    "                round.append((t2,\"vs.\",t1))\n",
    "                s_per_team[t2].append(t1)\n",
    "                s_per_team[t1].append(t2)\n",
    "                h_count_per_team[t2] += 1\n",
    "                ha_per_team[t2].append(\"Home\")\n",
    "                ha_per_team[t1].append(\"Away\")\n",
    "            else:\n",
    "                round.append((t1, \"vs.\", t2))\n",
    "                s_per_team[t2].append(t1)\n",
    "                s_per_team[t1].append(t2)\n",
    "                h_count_per_team[t1] += 1\n",
    "                ha_per_team[t1].append(\"Home\")\n",
    "                ha_per_team[t2].append(\"Away\")\n",
    "                \n",
    "        s[\"Round \" + str(i+1)] = round\n",
    "        \n",
    "        map = map[mid:-1] + map[:mid] + map[-1:]\n",
    "        \n",
    "    s_per_team = dict(sorted(s_per_team.items(), key=lambda x: x[0].lower()))\n",
    "    h_count_per_team = dict(sorted(h_count_per_team.items(), key=lambda x: x[0].lower()))\n",
    "    ha_per_team = dict(sorted(ha_per_team.items(), key=lambda x: x[0].lower()))\n",
    "    \n",
    "    return s, s_per_team, h_count_per_team, ha_per_team"
   ]
  },
  {
   "cell_type": "code",
   "execution_count": 79,
   "metadata": {},
   "outputs": [],
   "source": [
    "def optimize_tv_ratings(schedule):\n",
    "    \"\"\"\n",
    "    Input a schedule derived from the round robin or round robin fair functions.\n",
    "    This function then outputs the TV-optimized schedule, as well as game times and locations.\"\"\"\n",
    "    new_schedule = {}\n",
    "    new_schedule_chron = {}\n",
    "    \n",
    "    for round in schedule:\n",
    "        temp_rating_list = []\n",
    "        for game in schedule[round]:\n",
    "            hometeam = game[0]\n",
    "            awayteam = game[2]\n",
    "            \n",
    "            htr = team_rankings[hometeam]\n",
    "            atr = team_rankings[awayteam]\n",
    "            \n",
    "            temp_rating_list.append(htr+atr)\n",
    "        \n",
    "        \n",
    "        argsort_trl = np.argsort(temp_rating_list)\n",
    "        \n",
    "        newround=[]\n",
    "        \n",
    "        for i in range(len(temp_rating_list)):\n",
    "            nextgame = argsort_trl[i]\n",
    "            \n",
    "            hometeam = schedule[round][nextgame][0]\n",
    "            awayteam = schedule[round][nextgame][2]\n",
    "            \n",
    "            ground = team_grounds[hometeam]\n",
    "            \n",
    "            timeslot = timeslots[i+1]\n",
    "            \n",
    "            newround.append((hometeam,awayteam,ground,timeslot,str(temp_rating_list[nextgame]),i+1))\n",
    "            \n",
    "        new_schedule[round]=newround\n",
    "    \n",
    "    for round in new_schedule:\n",
    "        \n",
    "        chronround = []\n",
    "        \n",
    "        chronround.append(new_schedule[round][0])\n",
    "        chronround.append(new_schedule[round][1])\n",
    "        chronround.append(new_schedule[round][5])\n",
    "        chronround.append(new_schedule[round][4])\n",
    "        chronround.append(new_schedule[round][2])\n",
    "        chronround.append(new_schedule[round][3])\n",
    "        chronround.append(new_schedule[round][7])\n",
    "        chronround.append(new_schedule[round][6])\n",
    "        chronround.append(new_schedule[round][8])\n",
    "        \n",
    "    \n",
    "        new_schedule_chron[round]=chronround\n",
    "        \n",
    "        \n",
    "    return new_schedule_chron"
   ]
  },
  {
   "cell_type": "code",
   "execution_count": 80,
   "metadata": {},
   "outputs": [],
   "source": [
    "def timeslots_non_opt(schedule):\n",
    "    \"\"\"\n",
    "    Input a schedule derived from the round robin or round robin fair functions.\n",
    "    This function then outputs the schedule with game time and locations assigned.\"\"\"\n",
    "    \n",
    "    new_schedule = {}\n",
    "    new_schedule_chron = {}\n",
    "    \n",
    "    for round in schedule:\n",
    "        temp_rating_list = []\n",
    "        for game in schedule[round]:\n",
    "            hometeam = game[0]\n",
    "            awayteam = game[2]\n",
    "            \n",
    "            htr = team_rankings[hometeam]\n",
    "            atr = team_rankings[awayteam]\n",
    "            \n",
    "            temp_rating_list.append(htr+atr)\n",
    "        \n",
    "        \n",
    "        newround=[]\n",
    "        \n",
    "        for i in range(len(temp_rating_list)):\n",
    "            \n",
    "            hometeam = schedule[round][i][0]\n",
    "            awayteam = schedule[round][i][2]\n",
    "            \n",
    "            ground = team_grounds[hometeam]\n",
    "            \n",
    "            timeslot = timeslots[i+1]\n",
    "            \n",
    "            newround.append((hometeam,awayteam,ground,timeslot,str(temp_rating_list[i]),i+1))\n",
    "            \n",
    "        new_schedule[round]=newround\n",
    "        \n",
    "    for round in new_schedule:\n",
    "        \n",
    "        chronround = []\n",
    "        \n",
    "        chronround.append(new_schedule[round][0])\n",
    "        chronround.append(new_schedule[round][1])\n",
    "        chronround.append(new_schedule[round][5])\n",
    "        chronround.append(new_schedule[round][4])\n",
    "        chronround.append(new_schedule[round][2])\n",
    "        chronround.append(new_schedule[round][3])\n",
    "        chronround.append(new_schedule[round][7])\n",
    "        chronround.append(new_schedule[round][6])\n",
    "        chronround.append(new_schedule[round][8])\n",
    "        \n",
    "    \n",
    "        new_schedule_chron[round]=chronround\n",
    "        \n",
    "        \n",
    "    return new_schedule_chron"
   ]
  },
  {
   "cell_type": "code",
   "execution_count": 81,
   "metadata": {},
   "outputs": [],
   "source": [
    "def create_schedule_df(schedule):\n",
    "    \"\"\"\n",
    "    Input a schedule derived from the round robin or round robin fair functions followed by having game times\n",
    "    and locations derived.\n",
    "    This puts the schedule into a pandas DataFrame for ease of export and objective calculation.\"\"\"\n",
    "    df_list = []\n",
    "    cols = ['Round','Home Team','Away Team','Venue','Time','Rank','TimeRank']\n",
    "    \n",
    "    for round in schedule:\n",
    "        df = pd.DataFrame(schedule[round],columns=['Home Team','Away Team','Venue','Time','Rank','TimeRank'])\n",
    "        df['Round'] = round\n",
    "        df = df[cols]\n",
    "        \n",
    "        df_list.append(df)\n",
    "        \n",
    "        \n",
    "    full_df = pd.concat(df_list)\n",
    "    \n",
    "    return full_df"
   ]
  },
  {
   "cell_type": "code",
   "execution_count": 82,
   "metadata": {},
   "outputs": [],
   "source": [
    "def obj_HAV(ha_perteam):\n",
    "    \"\"\"\n",
    "    Input: Each teams Home-Away recurrence list.\n",
    "    Output: Count of HA violations for a season\"\"\"\n",
    "    counter=0\n",
    "    for team in ha_perteam:\n",
    "        for i in range(1,len(ha_perteam[team])):\n",
    "            if ha_perteam[team][i] == ha_perteam[team][i-1]:\n",
    "                counter += 1\n",
    "    return counter"
   ]
  },
  {
   "cell_type": "code",
   "execution_count": 83,
   "metadata": {},
   "outputs": [],
   "source": [
    "def obj_TV(df):\n",
    "    \"\"\"\n",
    "    Input: pandas DataFrame schedule  from create_schedule_df()\n",
    "    Output: Objective value of TV-ratings for game times\"\"\"\n",
    "    df['TimeRankInv'] = 9/df['TimeRank']\n",
    "    \n",
    "    #note max team rank for a game is 35, so to invert Rank per game, take reciprocal of 35\n",
    "    df['TV_Rank'] = df['TimeRankInv']* (35/df['Rank'].astype(int))\n",
    "    \n",
    "    return df['TV_Rank'].sum()"
   ]
  },
  {
   "cell_type": "markdown",
   "metadata": {},
   "source": [
    "## Use of functions to create schedules, export as csv (full and partial)"
   ]
  },
  {
   "cell_type": "code",
   "execution_count": 84,
   "metadata": {},
   "outputs": [],
   "source": [
    "basic_sched, basic_per_team, basic_hcpt, basic_hapt = basic_rr(teams)\n",
    "basic_sched_ts = timeslots_non_opt(basic_sched)\n",
    "basic_sched_df = create_schedule_df(basic_sched_ts)\n",
    "basic_sched_df = create_schedule_df(basic_sched_ts)\n",
    "\n",
    "basic_sched_df.drop(columns=['Rank','TimeRank']).to_csv('basic.csv',index=False)\n",
    "basic_sched_df_partial.drop(columns=['Rank','TimeRank']).to_csv('basic_partial.csv',index=False)"
   ]
  },
  {
   "cell_type": "code",
   "execution_count": 85,
   "metadata": {},
   "outputs": [],
   "source": [
    "fair_sched, fair_per_team, fair_hcpt, fair_hapt = round_robin_fair(teams)\n",
    "ha_fair_ts = timeslots_non_opt(fair_sched)\n",
    "ha_fair_df = create_schedule_df(ha_fair_ts)\n",
    "ha_fair_df_partial = create_partial_schedule_df(ha_fair_ts)\n",
    "\n",
    "ha_fair_df.drop(columns=['Rank','TimeRank']).to_csv('ha_fair.csv',index=False)\n",
    "ha_fair_df_partial.drop(columns=['Rank','TimeRank']).to_csv('ha_fair_partial.csv',index=False)"
   ]
  },
  {
   "cell_type": "code",
   "execution_count": 86,
   "metadata": {},
   "outputs": [],
   "source": [
    "tv_opt_ts = optimize_tv_ratings(fair_sched)\n",
    "tv_opt_df = create_schedule_df(tv_opt_ts)\n",
    "tv_opt_df_partial = create_partial_schedule_df(tv_opt_ts)\n",
    "\n",
    "tv_opt_df.drop(columns=['Rank','TimeRank']).to_csv('tv_opt.csv',index=False)\n",
    "tv_opt_df_partial.drop(columns=['Rank','TimeRank']).to_csv('tv_opt_partial.csv',index=False)"
   ]
  },
  {
   "cell_type": "markdown",
   "metadata": {},
   "source": [
    "### Examples of Objective Function Calculation"
   ]
  },
  {
   "cell_type": "code",
   "execution_count": 87,
   "metadata": {},
   "outputs": [
    {
     "name": "stdout",
     "output_type": "stream",
     "text": [
      "HAV 256\n",
      "TV Optimisation 1213.6916872775612\n"
     ]
    }
   ],
   "source": [
    "#BASIC ROUND ROBIN\n",
    "print(\"HAV\",obj_HAV(basic_hapt))\n",
    "\n",
    "print(\"TV Optimisation\",obj_TV(basic_sched_df))"
   ]
  },
  {
   "cell_type": "code",
   "execution_count": 88,
   "metadata": {},
   "outputs": [
    {
     "name": "stdout",
     "output_type": "stream",
     "text": [
      "HAV 16\n",
      "TV Optimisation 1071.5892395597305\n"
     ]
    }
   ],
   "source": [
    "#FAIR HA\n",
    "print(\"HAV\",obj_HAV(fair_hapt))\n",
    "\n",
    "print(\"TV Optimisation\",obj_TV(ha_fair_df))"
   ]
  },
  {
   "cell_type": "code",
   "execution_count": 89,
   "metadata": {},
   "outputs": [
    {
     "name": "stdout",
     "output_type": "stream",
     "text": [
      "HAV 16\n",
      "TV Optimisation 1423.1477493483408\n"
     ]
    }
   ],
   "source": [
    "#TV OPT\n",
    "print(\"HAV\",obj_HAV(fair_hapt))\n",
    "\n",
    "print(\"TV Optimisation\",obj_TV(tv_opt_df))"
   ]
  },
  {
   "cell_type": "markdown",
   "metadata": {},
   "source": [
    "## Generate 100 schedules for each method for analysis"
   ]
  },
  {
   "cell_type": "markdown",
   "metadata": {},
   "source": [
    "Basic Round Robin"
   ]
  },
  {
   "cell_type": "code",
   "execution_count": 90,
   "metadata": {},
   "outputs": [],
   "source": [
    "hav = []\n",
    "tvopt = []\n",
    "for i in range(100):\n",
    "    random.shuffle(teams)\n",
    "    \n",
    "    basic_sched, basic_per_team, basic_hcpt, basic_hapt = basic_rr(teams)\n",
    "    basic_sched_ts = timeslots_non_opt(basic_sched)\n",
    "    basic_sched_df = create_schedule_df(basic_sched_ts)\n",
    "    \n",
    "    hav.append(obj_HAV(basic_hapt))\n",
    "    tvopt.append(obj_TV(basic_sched_df))"
   ]
  },
  {
   "cell_type": "code",
   "execution_count": 91,
   "metadata": {},
   "outputs": [],
   "source": [
    "basic_dict = {'HAV':hav,'TVOPT':tvopt}\n",
    "basic_sched_of = pd.DataFrame(basic_dict)\n",
    "\n",
    "basic_sched_of.to_csv(\"basic_schedule_objectives.csv\")"
   ]
  },
  {
   "cell_type": "markdown",
   "metadata": {},
   "source": [
    "Home-Away Fair"
   ]
  },
  {
   "cell_type": "code",
   "execution_count": 92,
   "metadata": {},
   "outputs": [],
   "source": [
    "hav = []\n",
    "tvopt = []\n",
    "for i in range(100):\n",
    "    random.shuffle(teams)\n",
    "    \n",
    "    fair_sched, fair_per_team, fair_hcpt, fair_hapt = round_robin_fair(teams)\n",
    "    ha_fair_ts = timeslots_non_opt(fair_sched)\n",
    "    ha_fair_df = create_schedule_df(ha_fair_ts)\n",
    "    \n",
    "    hav.append(obj_HAV(fair_hapt))\n",
    "    tvopt.append(obj_TV(ha_fair_df))"
   ]
  },
  {
   "cell_type": "code",
   "execution_count": 93,
   "metadata": {},
   "outputs": [],
   "source": [
    "fair_dict = {'HAV':hav,'TVOPT':tvopt}\n",
    "fair_sched_of = pd.DataFrame(fair_dict)\n",
    "\n",
    "fair_sched_of.to_csv(\"fair_schedule_objectives.csv\")"
   ]
  },
  {
   "cell_type": "markdown",
   "metadata": {},
   "source": [
    "TV Rating Optimized"
   ]
  },
  {
   "cell_type": "code",
   "execution_count": 94,
   "metadata": {},
   "outputs": [],
   "source": [
    "hav = []\n",
    "tvopt = []\n",
    "for i in range(100):\n",
    "    random.shuffle(teams)\n",
    "    \n",
    "    fair_sched, fair_per_team, fair_hcpt, fair_hapt = round_robin_fair(teams)\n",
    "    tv_opt_ts = optimize_tv_ratings(fair_sched)\n",
    "    tv_opt_df = create_schedule_df(tv_opt_ts)\n",
    "    \n",
    "    hav.append(obj_HAV(fair_hapt))\n",
    "    tvopt.append(obj_TV(tv_opt_df))"
   ]
  },
  {
   "cell_type": "code",
   "execution_count": 95,
   "metadata": {},
   "outputs": [],
   "source": [
    "tvopt_dict = {'HAV':hav,'TVOPT':tvopt}\n",
    "tvopt_sched_of = pd.DataFrame(tvopt_dict)\n",
    "\n",
    "tvopt_sched_of.to_csv(\"tvopt_schedule_objectives.csv\")"
   ]
  }
 ],
 "metadata": {
  "kernelspec": {
   "display_name": "Python 3",
   "language": "python",
   "name": "python3"
  },
  "language_info": {
   "codemirror_mode": {
    "name": "ipython",
    "version": 3
   },
   "file_extension": ".py",
   "mimetype": "text/x-python",
   "name": "python",
   "nbconvert_exporter": "python",
   "pygments_lexer": "ipython3",
   "version": "3.8.3"
  }
 },
 "nbformat": 4,
 "nbformat_minor": 4
}
