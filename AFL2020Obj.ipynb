{
 "cells": [
  {
   "cell_type": "code",
   "execution_count": 104,
   "metadata": {},
   "outputs": [],
   "source": [
    "import pandas as pd\n",
    "import numpy as np"
   ]
  },
  {
   "cell_type": "code",
   "execution_count": 105,
   "metadata": {},
   "outputs": [],
   "source": [
    "team_rankings = {}\n",
    "\n",
    "#based on 2021 ladder position\n",
    "team_rankings[\"Adelaide Crows\"]=15\n",
    "team_rankings[\"Brisbane Lions\"]=4\n",
    "team_rankings[\"Carlton\"]=13\n",
    "team_rankings[\"Collingwood\"]=17\n",
    "team_rankings[\"Essendon\"]=8\n",
    "team_rankings[\"Fremantle\"]=11\n",
    "team_rankings[\"Geelong Cats\"]=3\n",
    "team_rankings[\"Gold Coast Suns\"]=16\n",
    "team_rankings[\"GWS Giants\"]=7\n",
    "team_rankings[\"Hawthorn\"]=14\n",
    "team_rankings[\"Melbourne\"]=1\n",
    "team_rankings[\"North Melbourne\"]=18\n",
    "team_rankings[\"Port Adelaide\"]=2\n",
    "team_rankings[\"Richmond\"]=12\n",
    "team_rankings[\"St Kilda\"]=10\n",
    "team_rankings[\"Sydney Swans\"]=6\n",
    "team_rankings[\"West Coast Eagles\"]=9\n",
    "team_rankings[\"Western Bulldogs\"]=5"
   ]
  },
  {
   "cell_type": "code",
   "execution_count": 106,
   "metadata": {},
   "outputs": [],
   "source": [
    "df2020 = pd.read_csv('afl-2020-UTC (1).csv')"
   ]
  },
  {
   "cell_type": "code",
   "execution_count": 107,
   "metadata": {},
   "outputs": [],
   "source": [
    "homelist = df2020['Home Team'].tolist()\n",
    "awaylist = df2020['Away Team'].tolist()"
   ]
  },
  {
   "cell_type": "code",
   "execution_count": 108,
   "metadata": {},
   "outputs": [],
   "source": [
    "homeranklist = []\n",
    "for i in range(len(homelist)):\n",
    "    team = homelist[i]\n",
    "    homeranklist.append(team_rankings[team])"
   ]
  },
  {
   "cell_type": "code",
   "execution_count": 109,
   "metadata": {},
   "outputs": [],
   "source": [
    "awayranklist = []\n",
    "for i in range(len(awaylist)):\n",
    "    team = awaylist[i]\n",
    "    awayranklist.append(team_rankings[team])"
   ]
  },
  {
   "cell_type": "code",
   "execution_count": 110,
   "metadata": {},
   "outputs": [],
   "source": [
    "df2020['Home Rank'] = homeranklist\n",
    "df2020['Away Rank'] = awayranklist"
   ]
  },
  {
   "cell_type": "code",
   "execution_count": 111,
   "metadata": {},
   "outputs": [],
   "source": [
    "df2020['Rank'] =df2020['Home Rank']+df2020['Away Rank']"
   ]
  },
  {
   "cell_type": "code",
   "execution_count": 112,
   "metadata": {},
   "outputs": [],
   "source": [
    "df2020 = df2020[df2020['Round Number'].apply(lambda x: str(x).isdigit())]"
   ]
  },
  {
   "cell_type": "code",
   "execution_count": 113,
   "metadata": {},
   "outputs": [],
   "source": [
    "ind = [1,2,3,4,5,6,7,8,9]*17"
   ]
  },
  {
   "cell_type": "code",
   "execution_count": 114,
   "metadata": {},
   "outputs": [],
   "source": [
    "df2020['TimeRank'] = ind"
   ]
  },
  {
   "cell_type": "code",
   "execution_count": 116,
   "metadata": {},
   "outputs": [],
   "source": [
    "def obj_TV(df):\n",
    "    df['TimeRankInv'] = 9/df['TimeRank']\n",
    "    \n",
    "    #note max team rank for a game is 35, so to invert Rank per game, take reciprocal of 35\n",
    "    df['TV_Rank'] = df['TimeRankInv']* (35/df['Rank'].astype(int))\n",
    "    \n",
    "    return df['TV_Rank'].sum()"
   ]
  },
  {
   "cell_type": "code",
   "execution_count": 117,
   "metadata": {},
   "outputs": [
    {
     "data": {
      "text/plain": [
       "956.1218251484636"
      ]
     },
     "execution_count": 117,
     "metadata": {},
     "output_type": "execute_result"
    }
   ],
   "source": [
    "obj_TV(df2020)"
   ]
  },
  {
   "cell_type": "code",
   "execution_count": null,
   "metadata": {},
   "outputs": [],
   "source": []
  }
 ],
 "metadata": {
  "kernelspec": {
   "display_name": "Python 3",
   "language": "python",
   "name": "python3"
  },
  "language_info": {
   "codemirror_mode": {
    "name": "ipython",
    "version": 3
   },
   "file_extension": ".py",
   "mimetype": "text/x-python",
   "name": "python",
   "nbconvert_exporter": "python",
   "pygments_lexer": "ipython3",
   "version": "3.8.3"
  }
 },
 "nbformat": 4,
 "nbformat_minor": 4
}
